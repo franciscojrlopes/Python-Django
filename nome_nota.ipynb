{
 "cells": [
  {
   "cell_type": "markdown",
   "metadata": {},
   "source": []
  },
  {
   "cell_type": "code",
   "execution_count": 7,
   "metadata": {},
   "outputs": [
    {
     "name": "stdout",
     "output_type": "stream",
     "text": [
      "Amédia da turma é: 34.2\n"
     ]
    }
   ],
   "source": [
    "nomes = ['', '', '', '', '']\n",
    "notas = [0.0, 0.0, 0.0, 0.0, 0.0]\n",
    "\n",
    "nome = input('Entre com o nome do aluno 1:  ')\n",
    "nota = float(input('Entre com a nota do aluno 1: '))\n",
    "nomes[0] = nome\n",
    "notas[0] = nota \n",
    "nome = input('Entre com o nome do aluno 2:  ')\n",
    "nota = float(input('Entre com a nota do aluno 2: '))\n",
    "nomes[1] = nome\n",
    "notas[1] = nota \n",
    "nome = input('Entre com o nome do aluno 3:  ')\n",
    "nota = float(input('Entre com a nota do aluno 3: '))\n",
    "nomes[2] = nome\n",
    "notas[2] = nota \n",
    "nome = input('Entre com o nome do aluno 4:  ')\n",
    "nota = float(input('Entre com a nota do aluno 4: '))\n",
    "nomes[3] = nome\n",
    "notas[3] = nota \n",
    "nome = input('Entre com o nome do aluno 5:  ')\n",
    "nota = float(input('Entre com a nota do aluno 5: '))\n",
    "nomes[4] = nome\n",
    "notas[4] = nota \n",
    "media = (notas[0] + notas[1] + notas[2] + notas[3] + notas[4]/5)\n",
    "print(f'Amédia da turma é: {media}.')\n",
    "\n",
    "\n",
    "\n"
   ]
  },
  {
   "cell_type": "code",
   "execution_count": null,
   "metadata": {},
   "outputs": [],
   "source": []
  }
 ],
 "metadata": {
  "kernelspec": {
   "display_name": "Python 3",
   "language": "python",
   "name": "python3"
  },
  "language_info": {
   "codemirror_mode": {
    "name": "ipython",
    "version": 3
   },
   "file_extension": ".py",
   "mimetype": "text/x-python",
   "name": "python",
   "nbconvert_exporter": "python",
   "pygments_lexer": "ipython3",
   "version": "3.11.4"
  }
 },
 "nbformat": 4,
 "nbformat_minor": 2
}
