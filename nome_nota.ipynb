{
 "cells": [
  {
   "cell_type": "markdown",
   "metadata": {},
   "source": []
  },
  {
   "cell_type": "code",
   "execution_count": 5,
   "metadata": {},
   "outputs": [],
   "source": [
    "nomes = ['', '', '', '', '']\n",
    "notas = [0.0, 0.0, 0.0, 0.0, 0.0]\n",
    "\n",
    "nome = input('Entre com o nome do aluno 1:  ')\n",
    "nota = float(input('Entre com a nota do aluno 1: '))\n",
    "nomes[0] = nome\n",
    "notas[0] = nota \n",
    "nome = input('Entre com o nome do aluno 2:  ')\n",
    "nota = float(input('Entre com a nota do aluno 2: '))\n",
    "nomes[1] = nome\n",
    "notas[1] = nota \n",
    "nome = input('Entre com o nome do aluno 3:  ')\n",
    "nota = float(input('Entre com a nota do aluno 3: '))\n",
    "nomes[2] = nome\n",
    "notas[2] = nota \n",
    "nome = input('Entre com o nome do aluno 4:  ')\n",
    "nota = float(input('Entre com a nota do aluno 4: '))\n",
    "nomes[3] = nome\n",
    "notas[3] = nota \n",
    "nome = input('Entre com o nome do aluno 5:  ')\n",
    "nota = float(input('Entre com a nota do aluno 5: '))\n",
    "nomes[4] = nome\n",
    "notas[4] = nota \n",
    "\n",
    "\n",
    "\n",
    "\n"
   ]
  },
  {
   "cell_type": "code",
   "execution_count": null,
   "metadata": {},
   "outputs": [],
   "source": []
  }
 ],
 "metadata": {
  "kernelspec": {
   "display_name": "Python 3",
   "language": "python",
   "name": "python3"
  },
  "language_info": {
   "codemirror_mode": {
    "name": "ipython",
    "version": 3
   },
   "file_extension": ".py",
   "mimetype": "text/x-python",
   "name": "python",
   "nbconvert_exporter": "python",
   "pygments_lexer": "ipython3",
   "version": "3.11.4"
  }
 },
 "nbformat": 4,
 "nbformat_minor": 2
}
