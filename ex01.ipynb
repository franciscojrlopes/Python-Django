{
 "cells": [
  {
   "cell_type": "code",
   "execution_count": 2,
   "metadata": {},
   "outputs": [
    {
     "name": "stdout",
     "output_type": "stream",
     "text": [
      "Usuário: Francisco Lopes.\n",
      "Aniversário: 26 de março.\n",
      "Idade: 53 anos\n",
      "Serie favorita: Reacher\n",
      "Livro favorito: Nada Pode Me Ferir\n"
     ]
    }
   ],
   "source": [
    "print('Usuário: Francisco Lopes.')\n",
    "print('Aniversário: 26 de março.')\n",
    "idade = 53\n",
    "serie = 'Reacher'\n",
    "livro = 'Nada Pode Me Ferir'\n",
    "print('Idade:', idade, \"anos\")\n",
    "print('Serie favorita:', serie,)\n",
    "print('Livro favorito:', livro)"
   ]
  }
 ],
 "metadata": {
  "kernelspec": {
   "display_name": "Python 3",
   "language": "python",
   "name": "python3"
  },
  "language_info": {
   "codemirror_mode": {
    "name": "ipython",
    "version": 3
   },
   "file_extension": ".py",
   "mimetype": "text/x-python",
   "name": "python",
   "nbconvert_exporter": "python",
   "pygments_lexer": "ipython3",
   "version": "3.11.4"
  }
 },
 "nbformat": 4,
 "nbformat_minor": 2
}
